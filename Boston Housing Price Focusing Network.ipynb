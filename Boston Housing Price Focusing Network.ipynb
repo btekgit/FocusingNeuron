{
 "cells": [
  {
   "cell_type": "markdown",
   "metadata": {
    "_uuid": "452ca30a3ce0a2dc1b59b3f84f0c7f02ccbd7319"
   },
   "source": [
    "**This is based on an example from Deep Learning With Python book.**"
   ]
  },
  {
   "cell_type": "code",
   "execution_count": 1,
   "metadata": {
    "_cell_guid": "b1076dfc-b9ad-4769-8c92-a6c4dae69d19",
    "_uuid": "8f2839f25d086af736a60e9eeb907d3b93b6e0e5"
   },
   "outputs": [],
   "source": [
    "# This Python 3 environment comes with many helpful analytics libraries installed\n",
    "# It is defined by the kaggle/python docker image: https://github.com/kaggle/docker-python\n",
    "# For example, here's several helpful packages to load in \n",
    "\n",
    "\n",
    "\n",
    "import numpy as np # linear algebra\n",
    "import pandas as pd # data processing, CSV file I/O (e.g. pd.read_csv)\n",
    "import matplotlib.pyplot as plt"
   ]
  },
  {
   "cell_type": "markdown",
   "metadata": {
    "_uuid": "76c00e3b6e596e30ba6728c95ef323389dca5537"
   },
   "source": [
    "## Loading the dataset"
   ]
  },
  {
   "cell_type": "code",
   "execution_count": 2,
   "metadata": {
    "_cell_guid": "79c7e3d0-c299-4dcb-8224-4455121ee9b0",
    "_uuid": "d629ff2d2480ee46fbb7e2d37f6b5fab8052498a",
    "scrolled": true
   },
   "outputs": [
    {
     "name": "stderr",
     "output_type": "stream",
     "text": [
      "Using TensorFlow backend.\n",
      "/home/btek/.conda/envs/kerasgpu/lib/python3.7/site-packages/tensorflow/python/framework/dtypes.py:516: FutureWarning: Passing (type, 1) or '1type' as a synonym of type is deprecated; in a future version of numpy, it will be understood as (type, (1,)) / '(1,)type'.\n",
      "  _np_qint8 = np.dtype([(\"qint8\", np.int8, 1)])\n",
      "/home/btek/.conda/envs/kerasgpu/lib/python3.7/site-packages/tensorflow/python/framework/dtypes.py:517: FutureWarning: Passing (type, 1) or '1type' as a synonym of type is deprecated; in a future version of numpy, it will be understood as (type, (1,)) / '(1,)type'.\n",
      "  _np_quint8 = np.dtype([(\"quint8\", np.uint8, 1)])\n",
      "/home/btek/.conda/envs/kerasgpu/lib/python3.7/site-packages/tensorflow/python/framework/dtypes.py:518: FutureWarning: Passing (type, 1) or '1type' as a synonym of type is deprecated; in a future version of numpy, it will be understood as (type, (1,)) / '(1,)type'.\n",
      "  _np_qint16 = np.dtype([(\"qint16\", np.int16, 1)])\n",
      "/home/btek/.conda/envs/kerasgpu/lib/python3.7/site-packages/tensorflow/python/framework/dtypes.py:519: FutureWarning: Passing (type, 1) or '1type' as a synonym of type is deprecated; in a future version of numpy, it will be understood as (type, (1,)) / '(1,)type'.\n",
      "  _np_quint16 = np.dtype([(\"quint16\", np.uint16, 1)])\n",
      "/home/btek/.conda/envs/kerasgpu/lib/python3.7/site-packages/tensorflow/python/framework/dtypes.py:520: FutureWarning: Passing (type, 1) or '1type' as a synonym of type is deprecated; in a future version of numpy, it will be understood as (type, (1,)) / '(1,)type'.\n",
      "  _np_qint32 = np.dtype([(\"qint32\", np.int32, 1)])\n",
      "/home/btek/.conda/envs/kerasgpu/lib/python3.7/site-packages/tensorflow/python/framework/dtypes.py:525: FutureWarning: Passing (type, 1) or '1type' as a synonym of type is deprecated; in a future version of numpy, it will be understood as (type, (1,)) / '(1,)type'.\n",
      "  np_resource = np.dtype([(\"resource\", np.ubyte, 1)])\n",
      "/home/btek/.conda/envs/kerasgpu/lib/python3.7/site-packages/tensorboard/compat/tensorflow_stub/dtypes.py:541: FutureWarning: Passing (type, 1) or '1type' as a synonym of type is deprecated; in a future version of numpy, it will be understood as (type, (1,)) / '(1,)type'.\n",
      "  _np_qint8 = np.dtype([(\"qint8\", np.int8, 1)])\n",
      "/home/btek/.conda/envs/kerasgpu/lib/python3.7/site-packages/tensorboard/compat/tensorflow_stub/dtypes.py:542: FutureWarning: Passing (type, 1) or '1type' as a synonym of type is deprecated; in a future version of numpy, it will be understood as (type, (1,)) / '(1,)type'.\n",
      "  _np_quint8 = np.dtype([(\"quint8\", np.uint8, 1)])\n",
      "/home/btek/.conda/envs/kerasgpu/lib/python3.7/site-packages/tensorboard/compat/tensorflow_stub/dtypes.py:543: FutureWarning: Passing (type, 1) or '1type' as a synonym of type is deprecated; in a future version of numpy, it will be understood as (type, (1,)) / '(1,)type'.\n",
      "  _np_qint16 = np.dtype([(\"qint16\", np.int16, 1)])\n",
      "/home/btek/.conda/envs/kerasgpu/lib/python3.7/site-packages/tensorboard/compat/tensorflow_stub/dtypes.py:544: FutureWarning: Passing (type, 1) or '1type' as a synonym of type is deprecated; in a future version of numpy, it will be understood as (type, (1,)) / '(1,)type'.\n",
      "  _np_quint16 = np.dtype([(\"quint16\", np.uint16, 1)])\n",
      "/home/btek/.conda/envs/kerasgpu/lib/python3.7/site-packages/tensorboard/compat/tensorflow_stub/dtypes.py:545: FutureWarning: Passing (type, 1) or '1type' as a synonym of type is deprecated; in a future version of numpy, it will be understood as (type, (1,)) / '(1,)type'.\n",
      "  _np_qint32 = np.dtype([(\"qint32\", np.int32, 1)])\n",
      "/home/btek/.conda/envs/kerasgpu/lib/python3.7/site-packages/tensorboard/compat/tensorflow_stub/dtypes.py:550: FutureWarning: Passing (type, 1) or '1type' as a synonym of type is deprecated; in a future version of numpy, it will be understood as (type, (1,)) / '(1,)type'.\n",
      "  np_resource = np.dtype([(\"resource\", np.ubyte, 1)])\n"
     ]
    },
    {
     "name": "stdout",
     "output_type": "stream",
     "text": [
      "SEARCHING /home/btek/.keras/datasets/boston_housing.npz boston_housing.npz\n",
      "A local file was found, but it seems to be incomplete or outdated because the auto file hash does not match the original value of f553886a1f8d56431e820c5b82552d9d95cfcb96d1e678153f8839538947dff5 so we will re-download the data.\n",
      "Downloading data from https://s3.amazonaws.com/keras-datasets/boston_housing.npz\n",
      "57344/57026 [==============================] - 0s 5us/step\n"
     ]
    }
   ],
   "source": [
    "from keras.datasets import boston_housing\n",
    "\n",
    "(train_data, train_targets), (test_data, test_targets) = boston_housing.load_data()"
   ]
  },
  {
   "cell_type": "code",
   "execution_count": 3,
   "metadata": {
    "_uuid": "46abef54b50bee09d016f30786d79dda2171ad3c"
   },
   "outputs": [
    {
     "name": "stdout",
     "output_type": "stream",
     "text": [
      "Training data : (404, 13)\n",
      "Test data : (102, 13)\n",
      "Training sample : [  1.23247   0.        8.14      0.        0.538     6.142    91.7\n",
      "   3.9769    4.      307.       21.      396.9      18.72   ]\n",
      "Training target sample : 15.2\n"
     ]
    }
   ],
   "source": [
    "# take a look at the data\n",
    "\n",
    "print(f'Training data : {train_data.shape}')\n",
    "print(f'Test data : {test_data.shape}')\n",
    "print(f'Training sample : {train_data[0]}')\n",
    "print(f'Training target sample : {train_targets[0]}')"
   ]
  },
  {
   "cell_type": "markdown",
   "metadata": {
    "_uuid": "06d8318b1e09e6dffb161fab36b324a309b25b6a"
   },
   "source": [
    "## Preparing the data\n",
    "\n",
    "We are going to do a feature normalization . Feature normalizaion is when you subtract the mean of the feature from each feature and divide each result by the standard deviation.\n"
   ]
  },
  {
   "cell_type": "code",
   "execution_count": 4,
   "metadata": {
    "_uuid": "fb47c40e26f4a56384584910c748eea00cfd7159"
   },
   "outputs": [],
   "source": [
    "mean = train_data.mean(axis=0)\n",
    "train_data -= mean\n",
    "std = train_data.std(axis=0)\n",
    "train_data /= std\n",
    "\n",
    "test_data -= mean\n",
    "test_data /= std\n",
    "\n",
    "# Note that the quantities used for normalizing the test data are computed using the\n",
    "# training data. You should never use in your workflow any quantity computed on the\n",
    "# test data, even for something as simple as data normalization."
   ]
  },
  {
   "cell_type": "code",
   "execution_count": 5,
   "metadata": {},
   "outputs": [],
   "source": [
    "# this is to allow focusing layer more room in the input domain\n",
    "pad = 5\n",
    "train_data2 = np.zeros(shape=(train_data.shape[0],train_data.shape[1]+2*pad), dtype=train_data.dtype)\n",
    "test_data2 = np.zeros(shape=(test_data.shape[0],test_data.shape[1]+2*pad), dtype=train_data.dtype)\n",
    "train_data2[:,pad:-pad]=train_data\n",
    "test_data2[:,pad:-pad]=test_data\n"
   ]
  },
  {
   "cell_type": "code",
   "execution_count": 6,
   "metadata": {},
   "outputs": [],
   "source": [
    "from keras_utils import SGDwithLR, RMSpropwithClip\n",
    "lr_dict = {'all':0.01,\n",
    "           'focus-1/Sigma:0': 0.01,'focus-1/Mu:0': 0.01,'focus-1/Weights:0': 0.01,\n",
    "           'focus-2/Sigma:0': 0.01,'focus-2/Mu:0': 0.01,'focus-2/Weights:0': 0.01,\n",
    "           'dense_1/Weights:0':0.01}\n",
    "        \n",
    "#lr_dict = {'all':0.0001}\n",
    "\n",
    "mom_dict = {'all':0.9}\n",
    "#decay_dict = {'all':0.9}\n",
    "#mom_dict = {'all':0.9,'focus-1/Sigma:0': 0.25,'focus-1/Mu:0': 0.25,\n",
    "#           'focus-2/Sigma:0': 0.25,'focus-2/Mu:0': 0.25}\n",
    "    \n",
    "decay_dict = {'all':0.9, 'focus-1/Sigma:0': 0.1,'focus-1/Mu:0':0.1,\n",
    "              'focus-2/Sigma:0': 0.1,'focus-2/Mu:0': 0.1}\n",
    "\n",
    "clip_dict = {'focus-1/Sigma:0':(0.05,1.0),'focus-1/Mu:0':(0.0,1.0),\n",
    "             'focus-2/Sigma:0':(0.05,1.0),'focus-2/Mu:0':(0.0,1.0)}\n"
   ]
  },
  {
   "cell_type": "markdown",
   "metadata": {
    "_uuid": "26834f67baa2de9d4b516b1f8eaafc5737276fce"
   },
   "source": [
    "## Building the network"
   ]
  },
  {
   "cell_type": "code",
   "execution_count": 7,
   "metadata": {
    "_uuid": "4cbaa8646f81bab4261e9c25474cef65b2fc8474"
   },
   "outputs": [],
   "source": [
    "from keras import models\n",
    "from keras import layers\n",
    "from Kfocusing import FocusedLayer1D\n",
    "from keras.optimizers import RMSprop\n",
    "\n",
    "\n",
    "\n",
    "def build_model(N=64,mod='dense', optimizer_s='SGDwithLR'):\n",
    "    \n",
    "    model = models.Sequential()\n",
    "    if mod=='dense':\n",
    "        model.add(layers.Dense(N, activation='relu', input_shape=(train_data.shape[1],),name='dense-1'))\n",
    "        model.add(layers.Dense(N, activation='relu',name='dense-2'))\n",
    "    elif mod=='focused':\n",
    "        model.add(FocusedLayer1D(units=N,\n",
    "                                  name='focus-1',\n",
    "                                  activation='relu',\n",
    "                                  init_sigma=0.25, \n",
    "                                  init_mu='spread',\n",
    "                                  init_w= None,\n",
    "                                  train_sigma=True, \n",
    "                                  train_weights=True,\n",
    "                                  train_mu = True,normed=2))\n",
    "        \n",
    "        \n",
    "        model.add(FocusedLayer1D(units=N,\n",
    "                                  name='focus-2',\n",
    "                                  activation='relu',\n",
    "                                  init_sigma=0.25, \n",
    "                                  init_mu='spread',\n",
    "                                  init_w= None,\n",
    "                                  train_sigma=True, \n",
    "                                  train_weights=True,\n",
    "                                  train_mu = True,normed=2))\n",
    "        \n",
    "    model.add(layers.Dense(1,name='dense-3'))\n",
    "    \n",
    "\n",
    "    if optimizer_s == 'SGDwithLR':\n",
    "        opt = SGDwithLR(lr_dict, mom_dict,decay_dict,clip_dict)#, decay=None)\n",
    "    elif optimizer_s=='RMSpropwithClip':\n",
    "        opt = RMSpropwithClip(lr=0.001, rho=0.9, epsilon=None, decay=0.0,clips=clip_dict)\n",
    "    else:\n",
    "        opt= SGD(lr=0.01, momentum=0.9)#, decay=None)\n",
    "    \n",
    "    \n",
    "    \n",
    "    model.compile(optimizer=opt,\n",
    "              loss='mse',\n",
    "              metrics=['mae'])\n",
    "    return model"
   ]
  },
  {
   "cell_type": "markdown",
   "metadata": {
    "_uuid": "bddd23bd4517bcbedb3e264249a39cf851a9acfd"
   },
   "source": [
    "## K-fold validation"
   ]
  },
  {
   "cell_type": "code",
   "execution_count": 8,
   "metadata": {
    "_uuid": "e9ccbfd3c006f5a51da9e83809f601cf651c02dc"
   },
   "outputs": [
    {
     "name": "stdout",
     "output_type": "stream",
     "text": [
      "Processing fold # 0\n",
      "{'name': 'focus-1'}\n",
      "{'name': 'focus-2'}\n",
      "WARNING:tensorflow:From /home/btek/anaconda2/envs/testgpu/lib/python3.7/site-packages/tensorflow/python/framework/op_def_library.py:263: colocate_with (from tensorflow.python.framework.ops) is deprecated and will be removed in a future version.\n",
      "Instructions for updating:\n",
      "Colocations handled automatically by placer.\n",
      "WARNING:tensorflow:From /home/btek/anaconda2/envs/testgpu/lib/python3.7/site-packages/tensorflow/python/ops/math_ops.py:3066: to_int32 (from tensorflow.python.ops.math_ops) is deprecated and will be removed in a future version.\n",
      "Instructions for updating:\n",
      "Use tf.cast instead.\n",
      "Clipping variable focus-1/Sigma:0  to  <tf.Variable 'SGDwithLR/clipsfocus-1/Sigma_0:0' shape=(2,) dtype=float32_ref>\n",
      "Processing fold # 1\n",
      "{'name': 'focus-1'}\n",
      "{'name': 'focus-2'}\n",
      "Processing fold # 2\n",
      "{'name': 'focus-1'}\n",
      "{'name': 'focus-2'}\n",
      "Processing fold # 3\n",
      "{'name': 'focus-1'}\n",
      "{'name': 'focus-2'}\n"
     ]
    }
   ],
   "source": [
    "k = 4\n",
    "num_val_samples = len(train_data) // k\n",
    "num_epochs = 100\n",
    "mod='focused'\n",
    "N=64\n",
    "all_scores = []\n",
    "\n",
    "for i in range(k):\n",
    "    print(f'Processing fold # {i}')\n",
    "    val_data = train_data[i * num_val_samples: (i+1) * num_val_samples]\n",
    "    val_targets = train_targets[i * num_val_samples: (i+1) * num_val_samples]\n",
    "    \n",
    "    partial_train_data = np.concatenate(\n",
    "                            [train_data[:i * num_val_samples],\n",
    "                            train_data[(i+1) * num_val_samples:]],\n",
    "                            axis=0)\n",
    "    partial_train_targets = np.concatenate(\n",
    "                            [train_targets[:i * num_val_samples],\n",
    "                            train_targets[(i+1)*num_val_samples:]],\n",
    "                            axis=0)\n",
    "    model = build_model(N,mod)\n",
    "    model.fit(partial_train_data,\n",
    "              partial_train_targets,\n",
    "              epochs=num_epochs,\n",
    "              batch_size=1,\n",
    "              verbose=0)\n",
    "    val_mse, val_mae = model.evaluate(val_data, val_targets, verbose=0)\n",
    "    all_scores.append(val_mae)"
   ]
  },
  {
   "cell_type": "code",
   "execution_count": 9,
   "metadata": {
    "_uuid": "5a9f7c987f6f29ea22a03c3df0688d9e38ea8f05"
   },
   "outputs": [
    {
     "name": "stdout",
     "output_type": "stream",
     "text": [
      "all_scores : [8.79262402978274, 8.440304236836953, 5.7631691658850945, 7.286687888721429]\n",
      "mean all scores : 7.570696330306554\n"
     ]
    }
   ],
   "source": [
    "print(f'all_scores : {all_scores}')\n",
    "print(f'mean all scores : {np.mean(all_scores)}')\n",
    "# dense_scores : [2.095678972725821, 2.220593815982932, 2.859968412040484, 2.4053568893139907]\n",
    "# mean scores 2.3953\n",
    "\n",
    "# focus scores\n",
    "#all_scores : [2.0599809353894525, 2.7440072522305026, 2.6911646399167504, 2.2415692912469996]\n",
    "#mean all scores : 2.4341805296959262"
   ]
  },
  {
   "cell_type": "code",
   "execution_count": 10,
   "metadata": {
    "_uuid": "328b6245ae5d964df08f14de6236bc68147c5611"
   },
   "outputs": [
    {
     "name": "stdout",
     "output_type": "stream",
     "text": [
      "{'name': 'focus-1'}\n",
      "{'name': 'focus-2'}\n",
      "102/102 [==============================] - 0s 3ms/step\n"
     ]
    }
   ],
   "source": [
    "model = build_model(N,'focused')\n",
    "model.fit(train_data2, train_targets, epochs=80, batch_size=16, verbose=0)\n",
    "test_mse_score, test_mae_score = model.evaluate(test_data2, test_targets)"
   ]
  },
  {
   "cell_type": "code",
   "execution_count": 11,
   "metadata": {
    "_uuid": "174d90326f6ed72d9127f6cf8d0619a4820d56e5"
   },
   "outputs": [
    {
     "name": "stdout",
     "output_type": "stream",
     "text": [
      "Mae:  6.573432548373353 Mse:  83.2877062629251\n"
     ]
    }
   ],
   "source": [
    "# dense result Mae:  2.6280728414946912 Mse:  16.77931198419309\n",
    "print(\"Mae: \",test_mae_score, \"Mse: \",test_mse_score)\n",
    "# focus Mae: Mae: 2.7198990747040392 Mse:  19.143169926662072\n",
    "# focus zero-padded Mae:  2.629578020058426 Mse:  14.96112060546875"
   ]
  },
  {
   "cell_type": "code",
   "execution_count": 12,
   "metadata": {},
   "outputs": [
    {
     "name": "stdout",
     "output_type": "stream",
     "text": [
      "{'name': 'focus-1'}\n",
      "{'name': 'focus-2'}\n",
      "102/102 [==============================] - 0s 3ms/step\n",
      "{'name': 'focus-1'}\n",
      "{'name': 'focus-2'}\n",
      "102/102 [==============================] - 0s 4ms/step\n",
      "{'name': 'focus-1'}\n",
      "{'name': 'focus-2'}\n",
      "102/102 [==============================] - 0s 4ms/step\n",
      "{'name': 'focus-1'}\n",
      "{'name': 'focus-2'}\n",
      "102/102 [==============================] - 0s 4ms/step\n",
      "{'name': 'focus-1'}\n",
      "{'name': 'focus-2'}\n",
      "102/102 [==============================] - 1s 5ms/step\n"
     ]
    }
   ],
   "source": [
    "R = 5\n",
    "list_mse_focus =[]\n",
    "list_mae_focus =[]\n",
    "for r in range(R):\n",
    "    model = build_model(N,'focused',optimizer_s='RMSpropwithClip')\n",
    "    history=model.fit(train_data2, train_targets, epochs=80, batch_size=16, verbose=0)\n",
    "    test_mse_score, test_mae_score = model.evaluate(test_data2, test_targets)\n",
    "    list_mse_focus.append(test_mse_score)\n",
    "    list_mae_focus.append(test_mae_score)\n"
   ]
  },
  {
   "cell_type": "code",
   "execution_count": 13,
   "metadata": {},
   "outputs": [
    {
     "name": "stdout",
     "output_type": "stream",
     "text": [
      "102/102 [==============================] - 0s 5ms/step\n",
      "102/102 [==============================] - 1s 5ms/step\n",
      "102/102 [==============================] - 1s 5ms/step\n",
      "102/102 [==============================] - 1s 5ms/step\n",
      "102/102 [==============================] - 1s 5ms/step\n"
     ]
    }
   ],
   "source": [
    "R = 5\n",
    "list_mse_dense =[]\n",
    "list_mae_dense =[]\n",
    "for r in range(R):\n",
    "    model = build_model(N,'dense',optimizer_s='RMSpropwithClip')\n",
    "    history=model.fit(train_data, train_targets, epochs=80, batch_size=16, verbose=0)\n",
    "    test_mse_score, test_mae_score = model.evaluate(test_data, test_targets)\n",
    "    list_mse_dense.append(test_mse_score)\n",
    "    list_mae_dense.append(test_mae_score)"
   ]
  },
  {
   "cell_type": "code",
   "execution_count": 14,
   "metadata": {},
   "outputs": [
    {
     "name": "stdout",
     "output_type": "stream",
     "text": [
      "focused: [2.53183164 2.52198186 2.63702825 2.68187948 2.60357109]\n",
      "Focus mean 2.5952584640652523\n",
      "Focus std 0.061170972659700354\n",
      "Focus min 2.521981856402229\n",
      "Dense: [2.58525176 2.74632061 2.49758059 2.57136992 2.70608645]\n",
      "Dense mean 2.621321867026535\n",
      "Dense std 0.09156186208961875\n",
      "Dense min 2.497580593707515\n"
     ]
    },
    {
     "data": {
      "text/plain": [
       "Ttest_indResult(statistic=-0.47338223756678277, pvalue=0.6485887038779921)"
      ]
     },
     "execution_count": 14,
     "metadata": {},
     "output_type": "execute_result"
    }
   ],
   "source": [
    "import numpy as np\n",
    "from scipy.stats import ttest_ind\n",
    "root = 'outputs/transfer-cifar10/'\n",
    "fs=np.array(list_mae_focus)\n",
    "ds=np.array(list_mae_dense)\n",
    "print(\"focused:\",fs)\n",
    "print(\"Focus mean\",np.mean(fs,axis=0))\n",
    "print(\"Focus std\",np.std(fs,axis=0))\n",
    "print(\"Focus min\",np.min(fs,axis=0))\n",
    "\n",
    "print(\"Dense:\",ds)\n",
    "print(\"Dense mean\",np.mean(ds,axis=0))\n",
    "print(\"Dense std\",np.std(ds,axis=0))\n",
    "print(\"Dense min\",np.min(ds,axis=0))\n",
    "\n",
    "ttest_ind(fs,ds)"
   ]
  },
  {
   "cell_type": "code",
   "execution_count": 8,
   "metadata": {},
   "outputs": [
    {
     "name": "stderr",
     "output_type": "stream",
     "text": [
      "WARNING: Logging before flag parsing goes to stderr.\n",
      "W0809 23:48:22.459196 140711336515392 deprecation_wrapper.py:119] From /home/btek/.conda/envs/kerasgpu/lib/python3.7/site-packages/keras/backend/tensorflow_backend.py:74: The name tf.get_default_graph is deprecated. Please use tf.compat.v1.get_default_graph instead.\n",
      "\n",
      "W0809 23:48:22.488465 140711336515392 deprecation_wrapper.py:119] From /home/btek/.conda/envs/kerasgpu/lib/python3.7/site-packages/keras/optimizers.py:790: The name tf.train.Optimizer is deprecated. Please use tf.compat.v1.train.Optimizer instead.\n",
      "\n",
      "W0809 23:48:22.489566 140711336515392 deprecation_wrapper.py:119] From /home/btek/.conda/envs/kerasgpu/lib/python3.7/site-packages/keras/backend/tensorflow_backend.py:517: The name tf.placeholder is deprecated. Please use tf.compat.v1.placeholder instead.\n",
      "\n",
      "W0809 23:48:22.508664 140711336515392 deprecation_wrapper.py:119] From /home/btek/.conda/envs/kerasgpu/lib/python3.7/site-packages/keras/backend/tensorflow_backend.py:174: The name tf.get_default_session is deprecated. Please use tf.compat.v1.get_default_session instead.\n",
      "\n",
      "W0809 23:48:22.509298 140711336515392 deprecation_wrapper.py:119] From /home/btek/.conda/envs/kerasgpu/lib/python3.7/site-packages/keras/backend/tensorflow_backend.py:181: The name tf.ConfigProto is deprecated. Please use tf.compat.v1.ConfigProto instead.\n",
      "\n",
      "W0809 23:48:22.509820 140711336515392 deprecation_wrapper.py:119] From /home/btek/.conda/envs/kerasgpu/lib/python3.7/site-packages/keras/backend/tensorflow_backend.py:186: The name tf.Session is deprecated. Please use tf.compat.v1.Session instead.\n",
      "\n"
     ]
    },
    {
     "name": "stdout",
     "output_type": "stream",
     "text": [
      "{'name': 'focus-1'}\n",
      "{'name': 'focus-2'}\n"
     ]
    },
    {
     "name": "stderr",
     "output_type": "stream",
     "text": [
      "W0809 23:48:23.809000 140711336515392 deprecation.py:323] From /home/btek/.conda/envs/kerasgpu/lib/python3.7/site-packages/tensorflow/python/ops/math_grad.py:1250: add_dispatch_support.<locals>.wrapper (from tensorflow.python.ops.array_ops) is deprecated and will be removed in a future version.\n",
      "Instructions for updating:\n",
      "Use tf.where in 2.0, which has the same broadcast rule as np.where\n"
     ]
    },
    {
     "name": "stdout",
     "output_type": "stream",
     "text": [
      "CLpping variable focus-1/Sigma:0  to  <tf.Variable 'RMSpropwithClip/clipsfocus-1/Sigma_0:0' shape=(2,) dtype=float32_ref>\n"
     ]
    }
   ],
   "source": [
    "k = 4\n",
    "num_val_samples = len(train_data) // k\n",
    "num_epochs = 100\n",
    "N=64\n",
    "\n",
    "# plot training curves\n",
    "model1 = build_model(N,'focused',optimizer_s='RMSpropwithClip')\n",
    "history_dense=model1.fit(train_data2, train_targets, epochs=250, batch_size=16, \n",
    "                         validation_data=(test_data2, test_targets),verbose=0)\n",
    "\n",
    "model2 = build_model(N,'dense',optimizer_s='RMSpropwithClip')\n",
    "history_focus=model2.fit(train_data, train_targets, epochs=250,\n",
    "                         validation_data=(test_data, test_targets), batch_size=16, verbose=0)  \n",
    "    \n"
   ]
  },
  {
   "cell_type": "code",
   "execution_count": 9,
   "metadata": {},
   "outputs": [
    {
     "data": {
      "text/plain": [
       "dict_keys(['val_loss', 'val_mean_absolute_error', 'loss', 'mean_absolute_error'])"
      ]
     },
     "execution_count": 9,
     "metadata": {},
     "output_type": "execute_result"
    }
   ],
   "source": [
    "history_dense.history.keys()"
   ]
  },
  {
   "cell_type": "code",
   "execution_count": 15,
   "metadata": {},
   "outputs": [],
   "source": [
    "from importlib import reload\n",
    "\n",
    "from plot_utils import paper_fig_settings"
   ]
  },
  {
   "cell_type": "code",
   "execution_count": 20,
   "metadata": {},
   "outputs": [
    {
     "data": {
      "image/png": "[encoded data removed]",
      "text/plain": [
       "<Figure size 576x576 with 1 Axes>"
      ]
     },
     "metadata": {},
     "output_type": "display_data"
    }
   ],
   "source": [
    "\n",
    "\n",
    "crv_legend =[' Trn', ' Val', 'Valacc', ' Tst']\n",
    "lin_styles =['-','--',':','--']\n",
    "leg_list =[]\n",
    "\n",
    "    \n",
    "from matplotlib import rcParams\n",
    "rcParams.update({'figure.autolayout': True})\n",
    "\n",
    "fig_hand=plt.figure(figsize=(4,4))\n",
    "#ax = fig_hand.gca()\n",
    "\n",
    "\n",
    "paper_fig_settings(addtosize=4)\n",
    "plt.plot(history_dense.history['loss'],'g')\n",
    "plt.plot(history_dense.history['val_loss'],'g--')\n",
    "plt.plot(history_focus.history['loss'],'r')\n",
    "plt.plot(history_focus.history['val_loss'],'r--')\n",
    "\n",
    "plt.legend(['Dense val','Dense trn','Focused-s val','Focused-s trn'])\n",
    "        \n",
    "plt.xlim(0,250)\n",
    "plt.ylim([1,40])\n",
    "plt.xticks([0,100,200])\n",
    "plt.grid(True)\n",
    "#plt.legend(leg_list)\n",
    "plt.xlabel('Epoch')\n",
    "plt.ylabel('Mean Squared Error')\n",
    "#plt.tight_layout()\n",
    "plt.title('BOSTON')\n",
    "plt.tight_layout(pad=1.0, w_pad=1.0, h_pad=.5)\n",
    "plt.savefig('figures/boston_new.png', format='png', dpi=300)\n",
    "#fig_hand.savefig('figures/'+title+'.png')\n"
   ]
  },
  {
   "cell_type": "code",
   "execution_count": 17,
   "metadata": {},
   "outputs": [],
   "source": [
    "import plot_utils"
   ]
  },
  {
   "cell_type": "code",
   "execution_count": null,
   "metadata": {},
   "outputs": [],
   "source": []
  }
 ],
 "metadata": {
  "kernelspec": {
   "display_name": "Python 3",
   "language": "python",
   "name": "python3"
  },
  "language_info": {
   "codemirror_mode": {
    "name": "ipython",
    "version": 3
   },
   "file_extension": ".py",
   "mimetype": "text/x-python",
   "name": "python",
   "nbconvert_exporter": "python",
   "pygments_lexer": "ipython3",
   "version": "3.7.3"
  }
 },
 "nbformat": 4,
 "nbformat_minor": 1
}
